{
 "cells": [
  {
   "cell_type": "markdown",
   "metadata": {},
   "source": [
    "# Objective Finetuning Quickstart\n",
    "\n",
    "Improve your Indexes by integrating your own data with Finetuning. Objective Finetuning amplifies the capabilities of AI search by incorporating your unique insights — your data and your feedback.\n",
    "\n",
    "Read the full [Quickstart Doc](https://www.objective.inc/docs/quickstarts/finetuning-quickstart).\n",
    "\n",
    "\n",
    "## Setup\n",
    "\n",
    "Begin by obtaining an API key and installing the SDK:\n",
    "\n",
    "To get an API key, [join the waitlist](https://objective.inc/contact).\n",
    "\n",
    "```bash\n",
    "pip install objective-sdk\n",
    "```\n",
    "\n",
    "## Adding Data\n",
    "\n",
    "Begin by adding Objects to the Object Store. The code below will download 10,000 example e-commerce products and upsert them to the Object Store. In this example we are building an e-commerce search platform:"
   ]
  },
  {
   "cell_type": "code",
   "execution_count": null,
   "metadata": {},
   "outputs": [],
   "source": [
    "import json\n",
    "import requests\n",
    "from objective import Client\n",
    "\n",
    "client = Client(api_key=\"YOUR_API_KEY\")\n",
    "\n",
    "data = json.loads(requests.get(\"https://d11p8vtjlacpl4.cloudfront.net/demos/ecommerce/hm-10k.json\").text)\n",
    "\n",
    "client.object_store.upsert_objects([{\"id\": str(obj.get(\"article_id\")), \"object\": obj} for obj in data])"
   ]
  },
  {
   "cell_type": "markdown",
   "metadata": {},
   "source": [
    "## Building an Index\n",
    "\n",
    "Build a `text` index out of the Objects pushed to the API with `searchable` and `filterable` fields:"
   ]
  },
  {
   "cell_type": "code",
   "execution_count": null,
   "metadata": {},
   "outputs": [],
   "source": [
    "index = client.indexes.create_index(\n",
    "    index_type=\"text\", # Specify the type of index as 'text'\n",
    "    fields={\n",
    "      # Defines fields that will be indexed, their values will influence relevance\n",
    "      \"searchable\": [\"prod_name\", \"department_name\", \"detail_desc\", \"garment_group_name\", \"index_group_name\", \"index_name\", \"perceived_colour_master_name\", \"perceived_colour_value_name\"],\n",
    "      # Defines fields that will be filterable\n",
    "      \"filterable\": [\"department_name\", \"colour_group_name\", \"garment_group_name\", \"index_group_name\", \"index_name\"]\n",
    "    }\n",
    ")\n",
    "index.status(watch=True)"
   ]
  },
  {
   "cell_type": "markdown",
   "metadata": {},
   "source": [
    "## Create Finetuned Index\n",
    "\n",
    "Finetuning requires feedback data. Namely, examples of queries with relevance judgements on their results. The data takes the form of `(query, object_id, label)`, where `object_id` is the ID of the search result in the Object Store, and `label` is the rating on a `{BAD, OK, GREAT}` scale. \n",
    "\n",
    "Here are example grades of a search for dark blue polo shirt:"
   ]
  },
  {
   "cell_type": "code",
   "execution_count": 12,
   "metadata": {},
   "outputs": [
    {
     "name": "stdout",
     "output_type": "stream",
     "text": [
      "{'object_id': '570004012', 'query': 'dark blue polo shirt', 'label': 'GREAT'}\n",
      "{'object_id': '806794003', 'query': 'dark blue polo shirt', 'label': 'GREAT'}\n",
      "{'object_id': '751334002', 'query': 'dark blue polo shirt', 'label': 'BAD'}\n",
      "{'object_id': '570004069', 'query': 'dark blue polo shirt', 'label': 'BAD'}\n",
      "{'object_id': '570004026', 'query': 'dark blue polo shirt', 'label': 'OK'}\n",
      "{'object_id': '570004078', 'query': 'dark blue polo shirt', 'label': 'BAD'}\n",
      "{'object_id': '689107004', 'query': 'dark blue polo shirt', 'label': 'BAD'}\n",
      "{'object_id': '806794004', 'query': 'dark blue polo shirt', 'label': 'BAD'}\n",
      "{'object_id': '689113002', 'query': 'dark blue polo shirt', 'label': 'GREAT'}\n",
      "{'object_id': '570004106', 'query': 'dark blue polo shirt', 'label': 'BAD'}\n"
     ]
    }
   ],
   "source": [
    "with open(\"graded_input.jsonl\", \"r\") as file:\n",
    "    for line in file:\n",
    "        data = json.loads(line)\n",
    "        if data[\"query\"] == \"dark blue polo shirt\":\n",
    "            print(data)\n"
   ]
  },
  {
   "cell_type": "markdown",
   "metadata": {},
   "source": [
    "[Complete example](graded_input.jsonl)\n",
    "\n",
    "These training labels are scoring results for a search on `dark blue polo shirt` as either `GREAT` or `BAD`. The Funetuning process will use this feedback to create a new Index optimized on the feedback. To download the full set of training labels and build a finetuned index with it:"
   ]
  },
  {
   "cell_type": "code",
   "execution_count": null,
   "metadata": {},
   "outputs": [],
   "source": [
    "with open(\"graded_input.jsonl\", \"r\") as file:\n",
    "    training_data = [json.loads(line) for line in file]\n",
    "    ft_index = index.finetune(training_data)"
   ]
  },
  {
   "cell_type": "markdown",
   "metadata": {},
   "source": [
    "Executing this code will kick off the Finetuning process. You will receive an email when the finetuning process is completed.\n",
    "\n",
    "## Compare results\n",
    "Once you’re Finetuning is complete, you’ll be able to find your new index on the Indexes page in the [Console](https://app.objective.inc/dashboard/indexes). You’ll see the Finetuned tag on the new index.\n",
    "\n",
    "Congratulations! 🎉 You’ve successfully learned how to optimize your existing search index using feedback data. This enables you to easily adapt the behavior of the system and optimize it to your use cases. The best part? Your index is now production-ready, so your users can immediately start enjoying the improved results."
   ]
  }
 ],
 "metadata": {
  "kernelspec": {
   "display_name": "venv",
   "language": "python",
   "name": "python3"
  },
  "language_info": {
   "codemirror_mode": {
    "name": "ipython",
    "version": 3
   },
   "file_extension": ".py",
   "mimetype": "text/x-python",
   "name": "python",
   "nbconvert_exporter": "python",
   "pygments_lexer": "ipython3",
   "version": "3.12.3"
  }
 },
 "nbformat": 4,
 "nbformat_minor": 2
}
