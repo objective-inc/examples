{
  "cells": [
    {
      "cell_type": "markdown",
      "metadata": {
        "id": "hYcO75OgmLkf"
      },
      "source": [
        "## Install dependencies"
      ]
    },
    {
      "cell_type": "code",
      "execution_count": null,
      "metadata": {
        "colab": {
          "base_uri": "https://localhost:8080/"
        },
        "id": "fk2haeJb1C6u",
        "outputId": "bba37cf3-de74-4115-a7b1-adef713c50d8"
      },
      "outputs": [],
      "source": [
        "!pip install requests objective-sdk"
      ]
    },
    {
      "cell_type": "code",
      "execution_count": null,
      "metadata": {
        "id": "HWZpjFeQSNup"
      },
      "outputs": [],
      "source": [
        "import json\n",
        "import time\n",
        "\n",
        "import requests\n",
        "import objective"
      ]
    },
    {
      "cell_type": "markdown",
      "metadata": {
        "id": "K1uCbVc-mS9s"
      },
      "source": [
        "## Load e-commerce dataset\n",
        "\n",
        "This is a dataset of 10,000 products from H&M. Source: https://www.kaggle.com/competitions/h-and-m-personalized-fashion-recommendations"
      ]
    },
    {
      "cell_type": "code",
      "execution_count": null,
      "metadata": {
        "colab": {
          "base_uri": "https://localhost:8080/"
        },
        "id": "IYp8EJUWiEKG",
        "outputId": "0eee8da6-5fa5-4326-bd77-bb98787e82a2"
      },
      "outputs": [],
      "source": [
        "data = json.loads(requests.get(\"https://d11p8vtjlacpl4.cloudfront.net/demos/ecommerce/hm-10k.json\").text)\n",
        "assert len(data) == 10000\n",
        "data[0]"
      ]
    },
    {
      "cell_type": "markdown",
      "metadata": {
        "id": "tTIivTLbmGYA"
      },
      "source": [
        "## Initiate the Objective API client with your API key\n",
        "\n",
        "Join the waitlist to get an API key - https://www.objective.inc/waitlist"
      ]
    },
    {
      "cell_type": "code",
      "execution_count": null,
      "metadata": {
        "id": "tfCCFuAIiR60"
      },
      "outputs": [],
      "source": [
        "from objective import Client\n",
        "\n",
        "client = Client(api_key=\"YOUR_API_KEY\")"
      ]
    },
    {
      "cell_type": "markdown",
      "metadata": {
        "id": "AEGlE0cdmdL1"
      },
      "source": [
        "## Upsert objects\n",
        "\n",
        "Upsert objects using the Objects API https://www.objective.inc/docs/ingestion/API/put-object"
      ]
    },
    {
      "cell_type": "code",
      "execution_count": null,
      "metadata": {
        "colab": {
          "base_uri": "https://localhost:8080/"
        },
        "id": "cmNYG4tbiviu",
        "outputId": "ba1f31f7-a4aa-4b87-bb4a-04c2f925e8ad"
      },
      "outputs": [],
      "source": [
        "client.object_store.upsert_objects([{\"id\": obj.get(\"id\"), \"object\": obj}for obj in data])"
      ]
    },
    {
      "cell_type": "markdown",
      "metadata": {
        "id": "M2-YbvCVmkVX"
      },
      "source": [
        "## Create multimodal index\n",
        "\n",
        "Create a multimodal index to search the data. This will index both the text and the images for searching. Docs - https://www.objective.inc/docs/index/api/create-index"
      ]
    },
    {
      "cell_type": "code",
      "execution_count": null,
      "metadata": {
        "colab": {
          "base_uri": "https://localhost:8080/"
        },
        "id": "yhwZIOK5i5ua",
        "outputId": "36c3bab3-f9a5-4443-983c-be0665dd0d5d"
      },
      "outputs": [],
      "source": [
        "index = client.indexes.create_index(\n",
        "    index_type=\"multimodal\", fields={\n",
        "      \"searchable\": [\"detail_desc\", \"garment_group_name\", \"section_name\", \"index_group_name\", \"index_name\", \"department_name\", \"perceived_colour_value_name\", \"colour_group_name\", \"graphical_appearance_name\", \"product_group_name\", \"product_type_name\", \"prod_name\",],\n",
        "      \"crawlable\": [\"image_url\"],\n",
        "      \"filterable\": [\"price\", \"rating\", \"colour_group_name\", \"index_name\"]\n",
        "    }\n",
        ")"
      ]
    },
    {
      "cell_type": "markdown",
      "metadata": {
        "id": "-KAIP6n7ms53"
      },
      "source": [
        "## Watch objects get indexed in real time\n",
        "\n",
        "Indexing occurs in real time, objects are typically available for search within a few seconds of pushing updates."
      ]
    },
    {
      "cell_type": "code",
      "execution_count": null,
      "metadata": {
        "colab": {
          "base_uri": "https://localhost:8080/",
          "height": 198
        },
        "id": "EXibZXsejsSJ",
        "outputId": "ad38de9d-0df8-4a82-de54-ea169248f94e"
      },
      "outputs": [],
      "source": [
        "status = {}\n",
        "while status.get(\"UPLOADED\", -1) != 0:\n",
        "  status = index.status()\n",
        "  print(\"\\r\" + str(status), end=\"\")\n",
        "  time.sleep(1)"
      ]
    },
    {
      "cell_type": "markdown",
      "metadata": {
        "id": "Huj34wgVTtH4"
      },
      "source": []
    },
    {
      "cell_type": "markdown",
      "metadata": {
        "id": "xtELx_Fim2hJ"
      },
      "source": [
        "## Search semantically\n",
        "\n",
        "Run your first search! 🎉 Semantically search the contents of the text and images, effortlessly finding things like \"red dresses with white flowers\"."
      ]
    },
    {
      "cell_type": "code",
      "execution_count": null,
      "metadata": {
        "colab": {
          "base_uri": "https://localhost:8080/"
        },
        "id": "Xfg06bj7juqw",
        "outputId": "0e961db7-7c6a-4a9f-a662-951e80748849"
      },
      "outputs": [],
      "source": [
        "index.search(query=\"red dress with white flowers\", object_fields=\"title, image_url\")"
      ]
    },
    {
      "cell_type": "markdown",
      "metadata": {
        "id": "wTZKtTZFnNKv"
      },
      "source": [
        "### Go to prod & learn more!\n",
        "\n",
        "That's it! You've just built your first AI search application in under 5 minutes. Best part is, you can go straight to production with what you've just built.\n",
        "\n",
        "Learn more:\n",
        "* Docs - https://www.objective.inc/docs/\n",
        "* Example apps - https://github.com/objective-inc/examples\n",
        "* Get help from the founders - lance@objective.inc\n",
        "* Book a call to learn more about how we can help with your use case - https://www.objective.inc/contact"
      ]
    },
    {
      "cell_type": "markdown",
      "metadata": {
        "id": "TfcdG88NEZoq"
      },
      "source": [
        "## Reset"
      ]
    },
    {
      "cell_type": "code",
      "execution_count": null,
      "metadata": {
        "colab": {
          "base_uri": "https://localhost:8080/"
        },
        "id": "nNGieBsIEEuB",
        "outputId": "d1109eec-07df-4f05-f2c3-d2d87e750295"
      },
      "outputs": [],
      "source": [
        "client.object_store.delete_objects(client.object_store.list_all_objects())"
      ]
    },
    {
      "cell_type": "code",
      "execution_count": null,
      "metadata": {
        "id": "HI0g57A6EKUj"
      },
      "outputs": [],
      "source": [
        "for idx in client.indexes.list_indexes():\n",
        "  idx.delete()"
      ]
    },
    {
      "cell_type": "code",
      "execution_count": null,
      "metadata": {
        "id": "Ix1W5-EdE-3R"
      },
      "outputs": [],
      "source": []
    }
  ],
  "metadata": {
    "colab": {
      "provenance": []
    },
    "kernelspec": {
      "display_name": "Python 3",
      "name": "python3"
    },
    "language_info": {
      "name": "python"
    }
  },
  "nbformat": 4,
  "nbformat_minor": 0
}
