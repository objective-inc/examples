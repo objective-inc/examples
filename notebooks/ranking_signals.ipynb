{
 "cells": [
  {
   "cell_type": "markdown",
   "metadata": {},
   "source": [
    "# Objective Ranking Signals Quickstart\n",
    "\n",
    "Add new factors to the ranking of your search results with Ranking Signals.\n",
    "\n",
    "Read the full [Quickstart Doc](TODO).\n",
    "\n",
    "## Setup\n",
    "\n",
    "Begin by obtaining an API key and installing the SDK:\n",
    "\n",
    "To get an API key, [join the waitlist](https://objective.inc/contact).\n",
    "\n",
    "```bash\n",
    "pip install objective-sdk\n",
    "```"
   ]
  },
  {
   "cell_type": "code",
   "execution_count": 1,
   "metadata": {},
   "outputs": [
    {
     "name": "stdout",
     "output_type": "stream",
     "text": [
      "Collecting requests\n",
      "  Using cached requests-2.32.3-py3-none-any.whl.metadata (4.6 kB)\n",
      "Collecting objective-sdk\n",
      "  Using cached objective_sdk-4.0.9-py3-none-any.whl.metadata (3.3 kB)\n",
      "Collecting charset-normalizer<4,>=2 (from requests)\n",
      "  Using cached charset_normalizer-3.3.2-cp312-cp312-macosx_11_0_arm64.whl.metadata (33 kB)\n",
      "Collecting idna<4,>=2.5 (from requests)\n",
      "  Using cached idna-3.7-py3-none-any.whl.metadata (9.9 kB)\n",
      "Collecting urllib3<3,>=1.21.1 (from requests)\n",
      "  Downloading urllib3-2.2.2-py3-none-any.whl.metadata (6.4 kB)\n",
      "Collecting certifi>=2017.4.17 (from requests)\n",
      "  Using cached certifi-2024.6.2-py3-none-any.whl.metadata (2.2 kB)\n",
      "Collecting more-itertools>=8.10.0 (from objective-sdk)\n",
      "  Using cached more_itertools-10.3.0-py3-none-any.whl.metadata (36 kB)\n",
      "Using cached requests-2.32.3-py3-none-any.whl (64 kB)\n",
      "Using cached objective_sdk-4.0.9-py3-none-any.whl (11 kB)\n",
      "Using cached certifi-2024.6.2-py3-none-any.whl (164 kB)\n",
      "Using cached charset_normalizer-3.3.2-cp312-cp312-macosx_11_0_arm64.whl (119 kB)\n",
      "Using cached idna-3.7-py3-none-any.whl (66 kB)\n",
      "Using cached more_itertools-10.3.0-py3-none-any.whl (59 kB)\n",
      "Downloading urllib3-2.2.2-py3-none-any.whl (121 kB)\n",
      "\u001b[2K   \u001b[38;2;114;156;31m━━━━━━━━━━━━━━━━━━━━━━━━━━━━━━━━━━━━━━━━\u001b[0m \u001b[32m121.4/121.4 kB\u001b[0m \u001b[31m3.4 MB/s\u001b[0m eta \u001b[36m0:00:00\u001b[0m\n",
      "\u001b[?25hInstalling collected packages: urllib3, more-itertools, idna, charset-normalizer, certifi, requests, objective-sdk\n",
      "Successfully installed certifi-2024.6.2 charset-normalizer-3.3.2 idna-3.7 more-itertools-10.3.0 objective-sdk-4.0.9 requests-2.32.3 urllib3-2.2.2\n"
     ]
    }
   ],
   "source": [
    "!pip install requests objective-sdk"
   ]
  },
  {
   "cell_type": "markdown",
   "metadata": {},
   "source": [
    "## Adding Data\n",
    "\n",
    "Begin by adding Objects to the Object Store. The code below will download 10,000 example e-commerce products and upsert them to the Object Store. In this example we are building an e-commerce search platform:"
   ]
  },
  {
   "cell_type": "code",
   "execution_count": 28,
   "metadata": {},
   "outputs": [
    {
     "name": "stderr",
     "output_type": "stream",
     "text": [
      "Successfully upserted 10000 objects.\n"
     ]
    },
    {
     "data": {
      "text/plain": [
       "BatchOperation(success=10000, failures=0)"
      ]
     },
     "execution_count": 28,
     "metadata": {},
     "output_type": "execute_result"
    }
   ],
   "source": [
    "import json\n",
    "import requests\n",
    "from objective import Client\n",
    "\n",
    "client = Client(api_key=\"sk_MV7WU6l3Tenp\")\n",
    "\n",
    "data = json.loads(requests.get(\"https://d11p8vtjlacpl4.cloudfront.net/demos/ecommerce/hm-10k.json\").text)\n",
    "\n",
    "client.object_store.upsert_objects([{\"id\": str(obj.get(\"article_id\")), \"object\": obj} for obj in data])"
   ]
  },
  {
   "cell_type": "markdown",
   "metadata": {},
   "source": [
    "## Building an Index\n",
    "\n",
    "Build a `multimodal` index out of the Objects pushed to the API with `searchable` and `filterable` fields:"
   ]
  },
  {
   "cell_type": "code",
   "execution_count": 29,
   "metadata": {},
   "outputs": [
    {
     "name": "stderr",
     "output_type": "stream",
     "text": [
      "Creating index...\n",
      "Index idx_Zcfneus0euFo successfully created.\n",
      "Index idx_Zcfneus0euFo not initialized yet, sleeping for 30 seconds.\n"
     ]
    },
    {
     "name": "stdout",
     "output_type": "stream",
     "text": [
      "Progress: [###################################################################################################] 100%\n"
     ]
    },
    {
     "data": {
      "text/plain": [
       "{'status': {'READY': 10000, 'ERROR': 3, 'PROCESSING': 0, 'UPLOADED': 0}}"
      ]
     },
     "execution_count": 29,
     "metadata": {},
     "output_type": "execute_result"
    }
   ],
   "source": [
    "index = client.indexes.create_index(\n",
    "    index_type=\"multimodal\", # Specify the type of index as 'text'\n",
    "    fields={\n",
    "      # Defines fields that will be indexed, their values will influence relevance\n",
    "      \"searchable\": [\"prod_name\", \"department_name\", \"detail_desc\", \"garment_group_name\", \"index_group_name\", \"index_name\", \"perceived_colour_master_name\", \"perceived_colour_value_name\"],\n",
    "      # Defines fields that will be filterable\n",
    "      \"filterable\": [\"department_name\", \"colour_group_name\", \"garment_group_name\", \"index_group_name\", \"index_name\"]\n",
    "    }\n",
    ")\n",
    "index.status(watch=True)"
   ]
  },
  {
   "cell_type": "markdown",
   "metadata": {},
   "source": [
    "## Run a query\n",
    "\n",
    "Next, run a query and let's look at the results. But before running the query we'll also create a function (`display_results`) to help us display the results."
   ]
  },
  {
   "cell_type": "code",
   "execution_count": 23,
   "metadata": {},
   "outputs": [
    {
     "data": {
      "text/html": [
       "<div style=\"display: flex; align-items: center;\"><div style=\"flex: 1;\"><img src=\"https://d11p8vtjlacpl4.cloudfront.net/kaggle-hm-images/076/0768419001.jpg\" height=\"120\"></div><div style=\"flex: 2;\"><p>ID: 768419001</p><p>Product Name: Grape t-shirt</p><p>Ladieswear &raquo; Garment Upper body &raquo; T-shirt</p><p>Color: White - 10</p></div></div>"
      ],
      "text/plain": [
       "<IPython.core.display.HTML object>"
      ]
     },
     "metadata": {},
     "output_type": "display_data"
    },
    {
     "data": {
      "text/html": [
       "<div style=\"display: flex; align-items: center;\"><div style=\"flex: 1;\"><img src=\"https://d11p8vtjlacpl4.cloudfront.net/kaggle-hm-images/077/0779034002.jpg\" height=\"120\"></div><div style=\"flex: 2;\"><p>ID: 779034002</p><p>Product Name: Wilhelm tee</p><p>Menswear &raquo; Garment Upper body &raquo; T-shirt</p><p>Color: Dark Green - 93</p></div></div>"
      ],
      "text/plain": [
       "<IPython.core.display.HTML object>"
      ]
     },
     "metadata": {},
     "output_type": "display_data"
    },
    {
     "data": {
      "text/html": [
       "<div style=\"display: flex; align-items: center;\"><div style=\"flex: 1;\"><img src=\"https://d11p8vtjlacpl4.cloudfront.net/kaggle-hm-images/082/0827968016.jpg\" height=\"120\"></div><div style=\"flex: 2;\"><p>ID: 827968016</p><p>Product Name: Antonia heavy t-shirt</p><p>Ladieswear &raquo; Garment Upper body &raquo; T-shirt</p><p>Color: Grey - 7</p></div></div>"
      ],
      "text/plain": [
       "<IPython.core.display.HTML object>"
      ]
     },
     "metadata": {},
     "output_type": "display_data"
    },
    {
     "data": {
      "text/html": [
       "<div style=\"display: flex; align-items: center;\"><div style=\"flex: 1;\"><img src=\"https://d11p8vtjlacpl4.cloudfront.net/kaggle-hm-images/080/0806388003.jpg\" height=\"120\"></div><div style=\"flex: 2;\"><p>ID: 806388003</p><p>Product Name: Therese tee</p><p>Divided &raquo; Garment Upper body &raquo; T-shirt</p><p>Color: Beige - 13</p></div></div>"
      ],
      "text/plain": [
       "<IPython.core.display.HTML object>"
      ]
     },
     "metadata": {},
     "output_type": "display_data"
    },
    {
     "data": {
      "text/html": [
       "<div style=\"display: flex; align-items: center;\"><div style=\"flex: 1;\"><img src=\"https://d11p8vtjlacpl4.cloudfront.net/kaggle-hm-images/068/0684021079.jpg\" height=\"120\"></div><div style=\"flex: 2;\"><p>ID: 684021079</p><p>Product Name: Wow printed tee 6.99</p><p>Menswear &raquo; Garment Upper body &raquo; T-shirt</p><p>Color: Light Purple - 61</p></div></div>"
      ],
      "text/plain": [
       "<IPython.core.display.HTML object>"
      ]
     },
     "metadata": {},
     "output_type": "display_data"
    },
    {
     "data": {
      "text/html": [
       "<div style=\"display: flex; align-items: center;\"><div style=\"flex: 1;\"><img src=\"https://d11p8vtjlacpl4.cloudfront.net/kaggle-hm-images/062/0621522003.jpg\" height=\"120\"></div><div style=\"flex: 2;\"><p>ID: 621522003</p><p>Product Name: Mike tee</p><p>Menswear &raquo; Garment Upper body &raquo; T-shirt</p><p>Color: Other Pink - 50</p></div></div>"
      ],
      "text/plain": [
       "<IPython.core.display.HTML object>"
      ]
     },
     "metadata": {},
     "output_type": "display_data"
    },
    {
     "data": {
      "text/html": [
       "<div style=\"display: flex; align-items: center;\"><div style=\"flex: 1;\"><img src=\"https://d11p8vtjlacpl4.cloudfront.net/kaggle-hm-images/080/0806388001.jpg\" height=\"120\"></div><div style=\"flex: 2;\"><p>ID: 806388001</p><p>Product Name: Therese tee</p><p>Divided &raquo; Garment Upper body &raquo; T-shirt</p><p>Color: Black - 9</p></div></div>"
      ],
      "text/plain": [
       "<IPython.core.display.HTML object>"
      ]
     },
     "metadata": {},
     "output_type": "display_data"
    },
    {
     "data": {
      "text/html": [
       "<div style=\"display: flex; align-items: center;\"><div style=\"flex: 1;\"><img src=\"https://d11p8vtjlacpl4.cloudfront.net/kaggle-hm-images/077/0770816003.jpg\" height=\"120\"></div><div style=\"flex: 2;\"><p>ID: 770816003</p><p>Product Name: Robbie Tee 6.99:-</p><p>Menswear &raquo; Garment Upper body &raquo; T-shirt</p><p>Color: Dark Red - 43</p></div></div>"
      ],
      "text/plain": [
       "<IPython.core.display.HTML object>"
      ]
     },
     "metadata": {},
     "output_type": "display_data"
    },
    {
     "data": {
      "text/html": [
       "<div style=\"display: flex; align-items: center;\"><div style=\"flex: 1;\"><img src=\"https://d11p8vtjlacpl4.cloudfront.net/kaggle-hm-images/080/0806388019.jpg\" height=\"120\"></div><div style=\"flex: 2;\"><p>ID: 806388019</p><p>Product Name: Therese tee</p><p>Divided &raquo; Garment Upper body &raquo; T-shirt</p><p>Color: Blue - 72</p></div></div>"
      ],
      "text/plain": [
       "<IPython.core.display.HTML object>"
      ]
     },
     "metadata": {},
     "output_type": "display_data"
    },
    {
     "data": {
      "text/html": [
       "<div style=\"display: flex; align-items: center;\"><div style=\"flex: 1;\"><img src=\"https://d11p8vtjlacpl4.cloudfront.net/kaggle-hm-images/061/0615021016.jpg\" height=\"120\"></div><div style=\"flex: 2;\"><p>ID: 615021016</p><p>Product Name: Luisa tee</p><p>Ladieswear &raquo; Garment Upper body &raquo; T-shirt</p><p>Color: White - 10</p></div></div>"
      ],
      "text/plain": [
       "<IPython.core.display.HTML object>"
      ]
     },
     "metadata": {},
     "output_type": "display_data"
    },
    {
     "data": {
      "text/html": [
       "<div style=\"display: flex; align-items: center;\"><div style=\"flex: 1;\"><img src=\"https://d11p8vtjlacpl4.cloudfront.net/kaggle-hm-images/061/0615021001.jpg\" height=\"120\"></div><div style=\"flex: 2;\"><p>ID: 615021001</p><p>Product Name: Luisa tee</p><p>Ladieswear &raquo; Garment Upper body &raquo; T-shirt</p><p>Color: White - 10</p></div></div>"
      ],
      "text/plain": [
       "<IPython.core.display.HTML object>"
      ]
     },
     "metadata": {},
     "output_type": "display_data"
    },
    {
     "data": {
      "text/html": [
       "<div style=\"display: flex; align-items: center;\"><div style=\"flex: 1;\"><img src=\"https://d11p8vtjlacpl4.cloudfront.net/kaggle-hm-images/055/0554598027.jpg\" height=\"120\"></div><div style=\"flex: 2;\"><p>ID: 554598027</p><p>Product Name: Nora T-shirt</p><p>Ladieswear &raquo; Garment Upper body &raquo; T-shirt</p><p>Color: Dark Red - 43</p></div></div>"
      ],
      "text/plain": [
       "<IPython.core.display.HTML object>"
      ]
     },
     "metadata": {},
     "output_type": "display_data"
    },
    {
     "data": {
      "text/html": [
       "<div style=\"display: flex; align-items: center;\"><div style=\"flex: 1;\"><img src=\"https://d11p8vtjlacpl4.cloudfront.net/kaggle-hm-images/073/0738418001.jpg\" height=\"120\"></div><div style=\"flex: 2;\"><p>ID: 738418001</p><p>Product Name: PE CORRES T-SHIRT</p><p>Ladieswear &raquo; Garment Upper body &raquo; Top</p><p>Color: White - 10</p></div></div>"
      ],
      "text/plain": [
       "<IPython.core.display.HTML object>"
      ]
     },
     "metadata": {},
     "output_type": "display_data"
    },
    {
     "data": {
      "text/html": [
       "<div style=\"display: flex; align-items: center;\"><div style=\"flex: 1;\"><img src=\"https://d11p8vtjlacpl4.cloudfront.net/kaggle-hm-images/055/0554598004.jpg\" height=\"120\"></div><div style=\"flex: 2;\"><p>ID: 554598004</p><p>Product Name: Nora T-shirt</p><p>Ladieswear &raquo; Garment Upper body &raquo; T-shirt</p><p>Color: Light Orange - 31</p></div></div>"
      ],
      "text/plain": [
       "<IPython.core.display.HTML object>"
      ]
     },
     "metadata": {},
     "output_type": "display_data"
    },
    {
     "data": {
      "text/html": [
       "<div style=\"display: flex; align-items: center;\"><div style=\"flex: 1;\"><img src=\"https://d11p8vtjlacpl4.cloudfront.net/kaggle-hm-images/055/0554598071.jpg\" height=\"120\"></div><div style=\"flex: 2;\"><p>ID: 554598071</p><p>Product Name: Nora T-shirt</p><p>Ladieswear &raquo; Garment Upper body &raquo; T-shirt</p><p>Color: Black - 9</p></div></div>"
      ],
      "text/plain": [
       "<IPython.core.display.HTML object>"
      ]
     },
     "metadata": {},
     "output_type": "display_data"
    },
    {
     "data": {
      "text/html": [
       "<div style=\"display: flex; align-items: center;\"><div style=\"flex: 1;\"><img src=\"https://d11p8vtjlacpl4.cloudfront.net/kaggle-hm-images/038/0386859028.jpg\" height=\"120\"></div><div style=\"flex: 2;\"><p>ID: 386859028</p><p>Product Name: T-Shirt Allington R-neck!</p><p>Menswear &raquo; Garment Upper body &raquo; T-shirt</p><p>Color: Dark Pink - 53</p></div></div>"
      ],
      "text/plain": [
       "<IPython.core.display.HTML object>"
      ]
     },
     "metadata": {},
     "output_type": "display_data"
    },
    {
     "data": {
      "text/html": [
       "<div style=\"display: flex; align-items: center;\"><div style=\"flex: 1;\"><img src=\"https://d11p8vtjlacpl4.cloudfront.net/kaggle-hm-images/078/0782616020.jpg\" height=\"120\"></div><div style=\"flex: 2;\"><p>ID: 782616020</p><p>Product Name: FORTUNA TEE</p><p>Menswear &raquo; Garment Upper body &raquo; T-shirt</p><p>Color: White - 10</p></div></div>"
      ],
      "text/plain": [
       "<IPython.core.display.HTML object>"
      ]
     },
     "metadata": {},
     "output_type": "display_data"
    },
    {
     "data": {
      "text/html": [
       "<div style=\"display: flex; align-items: center;\"><div style=\"flex: 1;\"><img src=\"https://d11p8vtjlacpl4.cloudfront.net/kaggle-hm-images/088/0880008004.jpg\" height=\"120\"></div><div style=\"flex: 2;\"><p>ID: 880008004</p><p>Product Name: Fatima t-shirt</p><p>Ladieswear &raquo; Garment Upper body &raquo; T-shirt</p><p>Color: Light Orange - 31</p></div></div>"
      ],
      "text/plain": [
       "<IPython.core.display.HTML object>"
      ]
     },
     "metadata": {},
     "output_type": "display_data"
    },
    {
     "data": {
      "text/html": [
       "<div style=\"display: flex; align-items: center;\"><div style=\"flex: 1;\"><img src=\"https://d11p8vtjlacpl4.cloudfront.net/kaggle-hm-images/044/0449263004.jpg\" height=\"120\"></div><div style=\"flex: 2;\"><p>ID: 449263004</p><p>Product Name: Zero Tee</p><p>Menswear &raquo; Garment Upper body &raquo; T-shirt</p><p>Color: Light Grey - 6</p></div></div>"
      ],
      "text/plain": [
       "<IPython.core.display.HTML object>"
      ]
     },
     "metadata": {},
     "output_type": "display_data"
    },
    {
     "data": {
      "text/html": [
       "<div style=\"display: flex; align-items: center;\"><div style=\"flex: 1;\"><img src=\"https://d11p8vtjlacpl4.cloudfront.net/kaggle-hm-images/034/0341782044.jpg\" height=\"120\"></div><div style=\"flex: 2;\"><p>ID: 341782044</p><p>Product Name: RILEY T-SHIRT</p><p>Menswear &raquo; Garment Upper body &raquo; T-shirt</p><p>Color: Dark Beige - 14</p></div></div>"
      ],
      "text/plain": [
       "<IPython.core.display.HTML object>"
      ]
     },
     "metadata": {},
     "output_type": "display_data"
    }
   ],
   "source": [
    "\n",
    "def display_results(results):\n",
    "    for obj in results['results']:\n",
    "        from IPython.display import Image, display, HTML\n",
    "        data = obj[\"object\"]\n",
    "        image_html = f'<div style=\"display: flex; align-items: center;\">' \\\n",
    "                     f'<div style=\"flex: 1;\"><img src=\"{data[\"image_url\"]}\" height=\"120\"></div>' \\\n",
    "                     f'<div style=\"flex: 2;\">' \\\n",
    "                     f'<p>ID: {obj[\"id\"]}</p>' \\\n",
    "                     f'<p>Product Name: {data[\"prod_name\"]}</p>' \\\n",
    "                     f'<p>{data[\"index_name\"]} &raquo; {data[\"product_group_name\"]} &raquo; {data[\"product_type_name\"]}</p>' \\\n",
    "                     f'<p>Color: {data[\"colour_group_name\"]} - {data[\"colour_group_code\"]}</p>'\\\n",
    "                     f'</div></div>'\n",
    "        \n",
    "        display(HTML(image_html))\n",
    "\n",
    "results = index.search(\"t-shirt\", object_fields=\"*\", limit=20)\n",
    "display_results(results)"
   ]
  },
  {
   "cell_type": "code",
   "execution_count": 27,
   "metadata": {},
   "outputs": [
    {
     "ename": "TypeError",
     "evalue": "Index.search() got an unexpected keyword argument 'ranking_expr'",
     "output_type": "error",
     "traceback": [
      "\u001b[0;31m---------------------------------------------------------------------------\u001b[0m",
      "\u001b[0;31mTypeError\u001b[0m                                 Traceback (most recent call last)",
      "Cell \u001b[0;32mIn[27], line 3\u001b[0m\n\u001b[1;32m      1\u001b[0m ranking_expr \u001b[38;5;241m=\u001b[39m \u001b[38;5;124m\"\u001b[39m\u001b[38;5;124muncalibrated_relevance * if(object.color_code == 72, 1.05, 1)\u001b[39m\u001b[38;5;124m\"\u001b[39m\n\u001b[0;32m----> 3\u001b[0m results \u001b[38;5;241m=\u001b[39m \u001b[43mindex\u001b[49m\u001b[38;5;241;43m.\u001b[39;49m\u001b[43msearch\u001b[49m\u001b[43m(\u001b[49m\u001b[38;5;124;43m\"\u001b[39;49m\u001b[38;5;124;43mt-shirt\u001b[39;49m\u001b[38;5;124;43m\"\u001b[39;49m\u001b[43m,\u001b[49m\u001b[43m \u001b[49m\u001b[43mobject_fields\u001b[49m\u001b[38;5;241;43m=\u001b[39;49m\u001b[38;5;124;43m\"\u001b[39;49m\u001b[38;5;124;43m*\u001b[39;49m\u001b[38;5;124;43m\"\u001b[39;49m\u001b[43m,\u001b[49m\u001b[43m \u001b[49m\u001b[43mlimit\u001b[49m\u001b[38;5;241;43m=\u001b[39;49m\u001b[38;5;241;43m20\u001b[39;49m\u001b[43m,\u001b[49m\u001b[43m \u001b[49m\u001b[43mranking_expr\u001b[49m\u001b[38;5;241;43m=\u001b[39;49m\u001b[43mranking_expr\u001b[49m\u001b[43m)\u001b[49m\n\u001b[1;32m      4\u001b[0m display_results(results)\n",
      "\u001b[0;31mTypeError\u001b[0m: Index.search() got an unexpected keyword argument 'ranking_expr'"
     ]
    }
   ],
   "source": [
    "\n",
    "ranking_expr = \"uncalibrated_relevance * if(object.color_code == 72, 1.05, 1)\"\n",
    "\n",
    "results = index.search(\"t-shirt\", object_fields=\"*\", limit=20, ranking_expr=ranking_expr)\n",
    "display_results(results)"
   ]
  }
 ],
 "metadata": {
  "kernelspec": {
   "display_name": ".venv",
   "language": "python",
   "name": "python3"
  },
  "language_info": {
   "codemirror_mode": {
    "name": "ipython",
    "version": 3
   },
   "file_extension": ".py",
   "mimetype": "text/x-python",
   "name": "python",
   "nbconvert_exporter": "python",
   "pygments_lexer": "ipython3",
   "version": "3.12.3"
  }
 },
 "nbformat": 4,
 "nbformat_minor": 2
}
