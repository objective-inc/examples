{
 "cells": [
  {
   "cell_type": "markdown",
   "metadata": {},
   "source": [
    "# Objective Ranking Signals Quickstart\n",
    "\n",
    "Objective’s AI-native search ranks search results by a relevance score. Ranking Signals enable you to adjust the score, and therefore the final ranking of search results at query-time through the new `ranking_expr` query parameter.\n",
    "\n",
    "The most common use case for Ranking Signals is for query-time “boosting” or “de-boosting”. Boosting is commonly used for personalization based on user preferences or other contextual information that depends on external factors outside of the core, intrinsic relevancy of your search system.\n",
    "\n",
    "In this Quickstart, we'll walk through a common scenario in e-commerce. We'll use Ranking Signals to promote products within search results that a fictional user would be more likely to purchase.\n",
    "\n",
    "## Setup\n",
    "\n",
    "Begin by obtaining an API key and installing the SDK:\n",
    "\n",
    "To get an API key, [join the waitlist](https://objective.inc/contact).\n",
    "\n",
    "```bash\n",
    "pip install objective-sdk\n",
    "```"
   ]
  },
  {
   "cell_type": "code",
   "execution_count": null,
   "metadata": {},
   "outputs": [],
   "source": [
    "!pip install objective-sdk"
   ]
  },
  {
   "cell_type": "markdown",
   "metadata": {},
   "source": [
    "## Adding Data\n",
    "\n",
    "Next we will add Objects to the Object Store. The code below will download 10,000 example e-commerce products and upsert them to the Object Store. In this example we are building an e-commerce search platform:"
   ]
  },
  {
   "cell_type": "code",
   "execution_count": 28,
   "metadata": {},
   "outputs": [
    {
     "name": "stderr",
     "output_type": "stream",
     "text": [
      "Successfully upserted 10000 objects.\n"
     ]
    },
    {
     "data": {
      "text/plain": [
       "BatchOperation(success=10000, failures=0)"
      ]
     },
     "execution_count": 28,
     "metadata": {},
     "output_type": "execute_result"
    }
   ],
   "source": [
    "import json\n",
    "import requests\n",
    "from objective import Client\n",
    "\n",
    "client = Client(api_key=\"YOUR_API_KEY\")\n",
    "\n",
    "data = json.loads(requests.get(\"https://d11p8vtjlacpl4.cloudfront.net/demos/ecommerce/hm-10k.json\").text)\n",
    "\n",
    "client.object_store.upsert_objects([{\"id\": str(obj.get(\"article_id\")), \"object\": obj} for obj in data])"
   ]
  },
  {
   "cell_type": "markdown",
   "metadata": {},
   "source": [
    "## Building an Index\n",
    "\n",
    "Build a `multimodal` index out of the Objects pushed to the API with `searchable` and `filterable` fields:"
   ]
  },
  {
   "cell_type": "code",
   "execution_count": 29,
   "metadata": {},
   "outputs": [
    {
     "name": "stderr",
     "output_type": "stream",
     "text": [
      "Creating index...\n",
      "Index idx_Zcfneus0euFo successfully created.\n",
      "Index idx_Zcfneus0euFo not initialized yet, sleeping for 30 seconds.\n"
     ]
    },
    {
     "name": "stdout",
     "output_type": "stream",
     "text": [
      "Progress: [###################################################################################################] 100%\n"
     ]
    },
    {
     "data": {
      "text/plain": [
       "{'status': {'READY': 10000, 'ERROR': 3, 'PROCESSING': 0, 'UPLOADED': 0}}"
      ]
     },
     "execution_count": 29,
     "metadata": {},
     "output_type": "execute_result"
    }
   ],
   "source": [
    "index = client.indexes.create_index(\n",
    "    index_type=\"multimodal\", # Specify the type of index as 'text'\n",
    "    fields={\n",
    "      # Defines fields that will be indexed, their values will influence relevance\n",
    "      \"searchable\": [\"prod_name\", \"department_name\", \"detail_desc\", \"garment_group_name\", \"index_group_name\", \"index_name\", \"perceived_colour_master_name\", \"perceived_colour_value_name\"],\n",
    "      # Defines fields that will be filterable\n",
    "      \"filterable\": [\"department_name\", \"colour_group_name\", \"garment_group_name\", \"index_group_name\", \"index_name\"]\n",
    "    }\n",
    ")\n",
    "index.status(watch=True)"
   ]
  },
  {
   "cell_type": "markdown",
   "metadata": {},
   "source": [
    "## Create a Function for Displaying Results\n",
    "\n",
    "Create a function called `display_results`. We'll use this to help visualize search results as we add ranking expressions."
   ]
  },
  {
   "cell_type": "code",
   "execution_count": 47,
   "metadata": {},
   "outputs": [],
   "source": [
    "def display_results(results):\n",
    "    for obj in results['results']:\n",
    "        from IPython.display import Image, display, HTML\n",
    "        data = obj[\"object\"]\n",
    "        image_html = f'<div style=\"display: flex; align-items: center;\">' \\\n",
    "                     f'<div style=\"flex: 1;\"><img src=\"{data[\"image_url\"]}\" height=\"120\" width=\"85\"></div>' \\\n",
    "                     f'<div style=\"flex: 2;\">' \\\n",
    "                     f'<p>ID: {obj[\"id\"]}</p>' \\\n",
    "                     f'<p>Product Name: {data[\"prod_name\"]}</p>' \\\n",
    "                     f'<p>{data[\"index_name\"]} &raquo; {data[\"product_group_name\"]} &raquo; {data[\"product_type_name\"]}</p>' \\\n",
    "                     f'<p>Color: {data[\"colour_group_name\"]} - {data[\"colour_group_code\"]}</p>'\\\n",
    "                     f'<p>Rating: {data[\"rating\"]}'\\\n",
    "                     f'</div></div>'\n",
    "        \n",
    "        display(HTML(image_html))"
   ]
  },
  {
   "cell_type": "markdown",
   "metadata": {},
   "source": [
    "## Query and Display Results for \"t-shirt\"\n",
    "\n",
    "Let's start with a some query for \"t-shirt\". After executing this search, we will add a ranking expression to it and then run it again in order to compare the 2 result sets."
   ]
  },
  {
   "cell_type": "code",
   "execution_count": 48,
   "metadata": {},
   "outputs": [
    {
     "data": {
      "text/html": [
       "<div style=\"display: flex; align-items: center;\"><div style=\"flex: 1;\"><img src=\"https://d11p8vtjlacpl4.cloudfront.net/kaggle-hm-images/076/0768419001.jpg\" height=\"120\" width=\"85\"></div><div style=\"flex: 2;\"><p>ID: 768419001</p><p>Product Name: Grape t-shirt</p><p>Ladieswear &raquo; Garment Upper body &raquo; T-shirt</p><p>Color: White - 10</p><p>Rating: 4</div></div>"
      ],
      "text/plain": [
       "<IPython.core.display.HTML object>"
      ]
     },
     "metadata": {},
     "output_type": "display_data"
    },
    {
     "data": {
      "text/html": [
       "<div style=\"display: flex; align-items: center;\"><div style=\"flex: 1;\"><img src=\"https://d11p8vtjlacpl4.cloudfront.net/kaggle-hm-images/077/0779034002.jpg\" height=\"120\" width=\"85\"></div><div style=\"flex: 2;\"><p>ID: 779034002</p><p>Product Name: Wilhelm tee</p><p>Menswear &raquo; Garment Upper body &raquo; T-shirt</p><p>Color: Dark Green - 93</p><p>Rating: 3</div></div>"
      ],
      "text/plain": [
       "<IPython.core.display.HTML object>"
      ]
     },
     "metadata": {},
     "output_type": "display_data"
    },
    {
     "data": {
      "text/html": [
       "<div style=\"display: flex; align-items: center;\"><div style=\"flex: 1;\"><img src=\"https://d11p8vtjlacpl4.cloudfront.net/kaggle-hm-images/082/0827968016.jpg\" height=\"120\" width=\"85\"></div><div style=\"flex: 2;\"><p>ID: 827968016</p><p>Product Name: Antonia heavy t-shirt</p><p>Ladieswear &raquo; Garment Upper body &raquo; T-shirt</p><p>Color: Grey - 7</p><p>Rating: 3</div></div>"
      ],
      "text/plain": [
       "<IPython.core.display.HTML object>"
      ]
     },
     "metadata": {},
     "output_type": "display_data"
    },
    {
     "data": {
      "text/html": [
       "<div style=\"display: flex; align-items: center;\"><div style=\"flex: 1;\"><img src=\"https://d11p8vtjlacpl4.cloudfront.net/kaggle-hm-images/080/0806388003.jpg\" height=\"120\" width=\"85\"></div><div style=\"flex: 2;\"><p>ID: 806388003</p><p>Product Name: Therese tee</p><p>Divided &raquo; Garment Upper body &raquo; T-shirt</p><p>Color: Beige - 13</p><p>Rating: 4</div></div>"
      ],
      "text/plain": [
       "<IPython.core.display.HTML object>"
      ]
     },
     "metadata": {},
     "output_type": "display_data"
    },
    {
     "data": {
      "text/html": [
       "<div style=\"display: flex; align-items: center;\"><div style=\"flex: 1;\"><img src=\"https://d11p8vtjlacpl4.cloudfront.net/kaggle-hm-images/068/0684021079.jpg\" height=\"120\" width=\"85\"></div><div style=\"flex: 2;\"><p>ID: 684021079</p><p>Product Name: Wow printed tee 6.99</p><p>Menswear &raquo; Garment Upper body &raquo; T-shirt</p><p>Color: Light Purple - 61</p><p>Rating: 3</div></div>"
      ],
      "text/plain": [
       "<IPython.core.display.HTML object>"
      ]
     },
     "metadata": {},
     "output_type": "display_data"
    },
    {
     "data": {
      "text/html": [
       "<div style=\"display: flex; align-items: center;\"><div style=\"flex: 1;\"><img src=\"https://d11p8vtjlacpl4.cloudfront.net/kaggle-hm-images/062/0621522003.jpg\" height=\"120\" width=\"85\"></div><div style=\"flex: 2;\"><p>ID: 621522003</p><p>Product Name: Mike tee</p><p>Menswear &raquo; Garment Upper body &raquo; T-shirt</p><p>Color: Other Pink - 50</p><p>Rating: 1</div></div>"
      ],
      "text/plain": [
       "<IPython.core.display.HTML object>"
      ]
     },
     "metadata": {},
     "output_type": "display_data"
    },
    {
     "data": {
      "text/html": [
       "<div style=\"display: flex; align-items: center;\"><div style=\"flex: 1;\"><img src=\"https://d11p8vtjlacpl4.cloudfront.net/kaggle-hm-images/080/0806388001.jpg\" height=\"120\" width=\"85\"></div><div style=\"flex: 2;\"><p>ID: 806388001</p><p>Product Name: Therese tee</p><p>Divided &raquo; Garment Upper body &raquo; T-shirt</p><p>Color: Black - 9</p><p>Rating: 1</div></div>"
      ],
      "text/plain": [
       "<IPython.core.display.HTML object>"
      ]
     },
     "metadata": {},
     "output_type": "display_data"
    },
    {
     "data": {
      "text/html": [
       "<div style=\"display: flex; align-items: center;\"><div style=\"flex: 1;\"><img src=\"https://d11p8vtjlacpl4.cloudfront.net/kaggle-hm-images/077/0770816003.jpg\" height=\"120\" width=\"85\"></div><div style=\"flex: 2;\"><p>ID: 770816003</p><p>Product Name: Robbie Tee 6.99:-</p><p>Menswear &raquo; Garment Upper body &raquo; T-shirt</p><p>Color: Dark Red - 43</p><p>Rating: 2</div></div>"
      ],
      "text/plain": [
       "<IPython.core.display.HTML object>"
      ]
     },
     "metadata": {},
     "output_type": "display_data"
    },
    {
     "data": {
      "text/html": [
       "<div style=\"display: flex; align-items: center;\"><div style=\"flex: 1;\"><img src=\"https://d11p8vtjlacpl4.cloudfront.net/kaggle-hm-images/080/0806388019.jpg\" height=\"120\" width=\"85\"></div><div style=\"flex: 2;\"><p>ID: 806388019</p><p>Product Name: Therese tee</p><p>Divided &raquo; Garment Upper body &raquo; T-shirt</p><p>Color: Blue - 72</p><p>Rating: 2</div></div>"
      ],
      "text/plain": [
       "<IPython.core.display.HTML object>"
      ]
     },
     "metadata": {},
     "output_type": "display_data"
    },
    {
     "data": {
      "text/html": [
       "<div style=\"display: flex; align-items: center;\"><div style=\"flex: 1;\"><img src=\"https://d11p8vtjlacpl4.cloudfront.net/kaggle-hm-images/061/0615021016.jpg\" height=\"120\" width=\"85\"></div><div style=\"flex: 2;\"><p>ID: 615021016</p><p>Product Name: Luisa tee</p><p>Ladieswear &raquo; Garment Upper body &raquo; T-shirt</p><p>Color: White - 10</p><p>Rating: 4</div></div>"
      ],
      "text/plain": [
       "<IPython.core.display.HTML object>"
      ]
     },
     "metadata": {},
     "output_type": "display_data"
    },
    {
     "data": {
      "text/html": [
       "<div style=\"display: flex; align-items: center;\"><div style=\"flex: 1;\"><img src=\"https://d11p8vtjlacpl4.cloudfront.net/kaggle-hm-images/061/0615021001.jpg\" height=\"120\" width=\"85\"></div><div style=\"flex: 2;\"><p>ID: 615021001</p><p>Product Name: Luisa tee</p><p>Ladieswear &raquo; Garment Upper body &raquo; T-shirt</p><p>Color: White - 10</p><p>Rating: 4</div></div>"
      ],
      "text/plain": [
       "<IPython.core.display.HTML object>"
      ]
     },
     "metadata": {},
     "output_type": "display_data"
    },
    {
     "data": {
      "text/html": [
       "<div style=\"display: flex; align-items: center;\"><div style=\"flex: 1;\"><img src=\"https://d11p8vtjlacpl4.cloudfront.net/kaggle-hm-images/055/0554598027.jpg\" height=\"120\" width=\"85\"></div><div style=\"flex: 2;\"><p>ID: 554598027</p><p>Product Name: Nora T-shirt</p><p>Ladieswear &raquo; Garment Upper body &raquo; T-shirt</p><p>Color: Dark Red - 43</p><p>Rating: 4</div></div>"
      ],
      "text/plain": [
       "<IPython.core.display.HTML object>"
      ]
     },
     "metadata": {},
     "output_type": "display_data"
    },
    {
     "data": {
      "text/html": [
       "<div style=\"display: flex; align-items: center;\"><div style=\"flex: 1;\"><img src=\"https://d11p8vtjlacpl4.cloudfront.net/kaggle-hm-images/073/0738418001.jpg\" height=\"120\" width=\"85\"></div><div style=\"flex: 2;\"><p>ID: 738418001</p><p>Product Name: PE CORRES T-SHIRT</p><p>Ladieswear &raquo; Garment Upper body &raquo; Top</p><p>Color: White - 10</p><p>Rating: 3</div></div>"
      ],
      "text/plain": [
       "<IPython.core.display.HTML object>"
      ]
     },
     "metadata": {},
     "output_type": "display_data"
    },
    {
     "data": {
      "text/html": [
       "<div style=\"display: flex; align-items: center;\"><div style=\"flex: 1;\"><img src=\"https://d11p8vtjlacpl4.cloudfront.net/kaggle-hm-images/055/0554598004.jpg\" height=\"120\" width=\"85\"></div><div style=\"flex: 2;\"><p>ID: 554598004</p><p>Product Name: Nora T-shirt</p><p>Ladieswear &raquo; Garment Upper body &raquo; T-shirt</p><p>Color: Light Orange - 31</p><p>Rating: 4</div></div>"
      ],
      "text/plain": [
       "<IPython.core.display.HTML object>"
      ]
     },
     "metadata": {},
     "output_type": "display_data"
    },
    {
     "data": {
      "text/html": [
       "<div style=\"display: flex; align-items: center;\"><div style=\"flex: 1;\"><img src=\"https://d11p8vtjlacpl4.cloudfront.net/kaggle-hm-images/055/0554598071.jpg\" height=\"120\" width=\"85\"></div><div style=\"flex: 2;\"><p>ID: 554598071</p><p>Product Name: Nora T-shirt</p><p>Ladieswear &raquo; Garment Upper body &raquo; T-shirt</p><p>Color: Black - 9</p><p>Rating: 1</div></div>"
      ],
      "text/plain": [
       "<IPython.core.display.HTML object>"
      ]
     },
     "metadata": {},
     "output_type": "display_data"
    },
    {
     "data": {
      "text/html": [
       "<div style=\"display: flex; align-items: center;\"><div style=\"flex: 1;\"><img src=\"https://d11p8vtjlacpl4.cloudfront.net/kaggle-hm-images/038/0386859028.jpg\" height=\"120\" width=\"85\"></div><div style=\"flex: 2;\"><p>ID: 386859028</p><p>Product Name: T-Shirt Allington R-neck!</p><p>Menswear &raquo; Garment Upper body &raquo; T-shirt</p><p>Color: Dark Pink - 53</p><p>Rating: 2</div></div>"
      ],
      "text/plain": [
       "<IPython.core.display.HTML object>"
      ]
     },
     "metadata": {},
     "output_type": "display_data"
    },
    {
     "data": {
      "text/html": [
       "<div style=\"display: flex; align-items: center;\"><div style=\"flex: 1;\"><img src=\"https://d11p8vtjlacpl4.cloudfront.net/kaggle-hm-images/078/0782616020.jpg\" height=\"120\" width=\"85\"></div><div style=\"flex: 2;\"><p>ID: 782616020</p><p>Product Name: FORTUNA TEE</p><p>Menswear &raquo; Garment Upper body &raquo; T-shirt</p><p>Color: White - 10</p><p>Rating: 3</div></div>"
      ],
      "text/plain": [
       "<IPython.core.display.HTML object>"
      ]
     },
     "metadata": {},
     "output_type": "display_data"
    },
    {
     "data": {
      "text/html": [
       "<div style=\"display: flex; align-items: center;\"><div style=\"flex: 1;\"><img src=\"https://d11p8vtjlacpl4.cloudfront.net/kaggle-hm-images/088/0880008004.jpg\" height=\"120\" width=\"85\"></div><div style=\"flex: 2;\"><p>ID: 880008004</p><p>Product Name: Fatima t-shirt</p><p>Ladieswear &raquo; Garment Upper body &raquo; T-shirt</p><p>Color: Light Orange - 31</p><p>Rating: 1</div></div>"
      ],
      "text/plain": [
       "<IPython.core.display.HTML object>"
      ]
     },
     "metadata": {},
     "output_type": "display_data"
    },
    {
     "data": {
      "text/html": [
       "<div style=\"display: flex; align-items: center;\"><div style=\"flex: 1;\"><img src=\"https://d11p8vtjlacpl4.cloudfront.net/kaggle-hm-images/044/0449263004.jpg\" height=\"120\" width=\"85\"></div><div style=\"flex: 2;\"><p>ID: 449263004</p><p>Product Name: Zero Tee</p><p>Menswear &raquo; Garment Upper body &raquo; T-shirt</p><p>Color: Light Grey - 6</p><p>Rating: 3</div></div>"
      ],
      "text/plain": [
       "<IPython.core.display.HTML object>"
      ]
     },
     "metadata": {},
     "output_type": "display_data"
    },
    {
     "data": {
      "text/html": [
       "<div style=\"display: flex; align-items: center;\"><div style=\"flex: 1;\"><img src=\"https://d11p8vtjlacpl4.cloudfront.net/kaggle-hm-images/034/0341782044.jpg\" height=\"120\" width=\"85\"></div><div style=\"flex: 2;\"><p>ID: 341782044</p><p>Product Name: RILEY T-SHIRT</p><p>Menswear &raquo; Garment Upper body &raquo; T-shirt</p><p>Color: Dark Beige - 14</p><p>Rating: 3</div></div>"
      ],
      "text/plain": [
       "<IPython.core.display.HTML object>"
      ]
     },
     "metadata": {},
     "output_type": "display_data"
    }
   ],
   "source": [
    "results = index.search(\"t-shirt\", object_fields=\"*\", limit=20)\n",
    "display_results(results)"
   ]
  },
  {
   "cell_type": "markdown",
   "metadata": {},
   "source": [
    "## Create a Ranking Expression to Boost Menswear\n",
    "\n",
    "Let's assume that a user is searching the product catalog and that the user is a male who prefers shopping in the `Menswear` department. How can we express this with Ranking Signals?\n",
    "\n",
    "In our data we have a field called field called `index_group_name` and it contains values like `Menswear`and `Ladieswear`. Let's construct a ranking expression that gives a **2%** boost to all products in the `Menswear` department.\n",
    "\n",
    "**Why only 2%?** - When using Ranking Signals, it is important to consider their impact on overall relevancy. For example. If the boost for `Menswear` is _too_ strong, a search result for `\"ladies t-shirt\"` would be full of `Menswear`.\n",
    "\n",
    "Let's rerun the `t-shirt` search with the 2% boost on `Menswear`. Then we'll examine the ranking expression in more detail."
   ]
  },
  {
   "cell_type": "code",
   "execution_count": 49,
   "metadata": {},
   "outputs": [
    {
     "data": {
      "text/html": [
       "<div style=\"display: flex; align-items: center;\"><div style=\"flex: 1;\"><img src=\"https://d11p8vtjlacpl4.cloudfront.net/kaggle-hm-images/077/0779034002.jpg\" height=\"120\" width=\"85\"></div><div style=\"flex: 2;\"><p>ID: 779034002</p><p>Product Name: Wilhelm tee</p><p>Menswear &raquo; Garment Upper body &raquo; T-shirt</p><p>Color: Dark Green - 93</p><p>Rating: 3</div></div>"
      ],
      "text/plain": [
       "<IPython.core.display.HTML object>"
      ]
     },
     "metadata": {},
     "output_type": "display_data"
    },
    {
     "data": {
      "text/html": [
       "<div style=\"display: flex; align-items: center;\"><div style=\"flex: 1;\"><img src=\"https://d11p8vtjlacpl4.cloudfront.net/kaggle-hm-images/068/0684021079.jpg\" height=\"120\" width=\"85\"></div><div style=\"flex: 2;\"><p>ID: 684021079</p><p>Product Name: Wow printed tee 6.99</p><p>Menswear &raquo; Garment Upper body &raquo; T-shirt</p><p>Color: Light Purple - 61</p><p>Rating: 3</div></div>"
      ],
      "text/plain": [
       "<IPython.core.display.HTML object>"
      ]
     },
     "metadata": {},
     "output_type": "display_data"
    },
    {
     "data": {
      "text/html": [
       "<div style=\"display: flex; align-items: center;\"><div style=\"flex: 1;\"><img src=\"https://d11p8vtjlacpl4.cloudfront.net/kaggle-hm-images/062/0621522003.jpg\" height=\"120\" width=\"85\"></div><div style=\"flex: 2;\"><p>ID: 621522003</p><p>Product Name: Mike tee</p><p>Menswear &raquo; Garment Upper body &raquo; T-shirt</p><p>Color: Other Pink - 50</p><p>Rating: 1</div></div>"
      ],
      "text/plain": [
       "<IPython.core.display.HTML object>"
      ]
     },
     "metadata": {},
     "output_type": "display_data"
    },
    {
     "data": {
      "text/html": [
       "<div style=\"display: flex; align-items: center;\"><div style=\"flex: 1;\"><img src=\"https://d11p8vtjlacpl4.cloudfront.net/kaggle-hm-images/077/0770816003.jpg\" height=\"120\" width=\"85\"></div><div style=\"flex: 2;\"><p>ID: 770816003</p><p>Product Name: Robbie Tee 6.99:-</p><p>Menswear &raquo; Garment Upper body &raquo; T-shirt</p><p>Color: Dark Red - 43</p><p>Rating: 2</div></div>"
      ],
      "text/plain": [
       "<IPython.core.display.HTML object>"
      ]
     },
     "metadata": {},
     "output_type": "display_data"
    },
    {
     "data": {
      "text/html": [
       "<div style=\"display: flex; align-items: center;\"><div style=\"flex: 1;\"><img src=\"https://d11p8vtjlacpl4.cloudfront.net/kaggle-hm-images/038/0386859028.jpg\" height=\"120\" width=\"85\"></div><div style=\"flex: 2;\"><p>ID: 386859028</p><p>Product Name: T-Shirt Allington R-neck!</p><p>Menswear &raquo; Garment Upper body &raquo; T-shirt</p><p>Color: Dark Pink - 53</p><p>Rating: 2</div></div>"
      ],
      "text/plain": [
       "<IPython.core.display.HTML object>"
      ]
     },
     "metadata": {},
     "output_type": "display_data"
    },
    {
     "data": {
      "text/html": [
       "<div style=\"display: flex; align-items: center;\"><div style=\"flex: 1;\"><img src=\"https://d11p8vtjlacpl4.cloudfront.net/kaggle-hm-images/078/0782616020.jpg\" height=\"120\" width=\"85\"></div><div style=\"flex: 2;\"><p>ID: 782616020</p><p>Product Name: FORTUNA TEE</p><p>Menswear &raquo; Garment Upper body &raquo; T-shirt</p><p>Color: White - 10</p><p>Rating: 3</div></div>"
      ],
      "text/plain": [
       "<IPython.core.display.HTML object>"
      ]
     },
     "metadata": {},
     "output_type": "display_data"
    },
    {
     "data": {
      "text/html": [
       "<div style=\"display: flex; align-items: center;\"><div style=\"flex: 1;\"><img src=\"https://d11p8vtjlacpl4.cloudfront.net/kaggle-hm-images/044/0449263004.jpg\" height=\"120\" width=\"85\"></div><div style=\"flex: 2;\"><p>ID: 449263004</p><p>Product Name: Zero Tee</p><p>Menswear &raquo; Garment Upper body &raquo; T-shirt</p><p>Color: Light Grey - 6</p><p>Rating: 3</div></div>"
      ],
      "text/plain": [
       "<IPython.core.display.HTML object>"
      ]
     },
     "metadata": {},
     "output_type": "display_data"
    },
    {
     "data": {
      "text/html": [
       "<div style=\"display: flex; align-items: center;\"><div style=\"flex: 1;\"><img src=\"https://d11p8vtjlacpl4.cloudfront.net/kaggle-hm-images/034/0341782044.jpg\" height=\"120\" width=\"85\"></div><div style=\"flex: 2;\"><p>ID: 341782044</p><p>Product Name: RILEY T-SHIRT</p><p>Menswear &raquo; Garment Upper body &raquo; T-shirt</p><p>Color: Dark Beige - 14</p><p>Rating: 3</div></div>"
      ],
      "text/plain": [
       "<IPython.core.display.HTML object>"
      ]
     },
     "metadata": {},
     "output_type": "display_data"
    },
    {
     "data": {
      "text/html": [
       "<div style=\"display: flex; align-items: center;\"><div style=\"flex: 1;\"><img src=\"https://d11p8vtjlacpl4.cloudfront.net/kaggle-hm-images/069/0699923030.jpg\" height=\"120\" width=\"85\"></div><div style=\"flex: 2;\"><p>ID: 699923030</p><p>Product Name: Mike tee</p><p>Menswear &raquo; Garment Upper body &raquo; T-shirt</p><p>Color: Greenish Khaki - 19</p><p>Rating: 4</div></div>"
      ],
      "text/plain": [
       "<IPython.core.display.HTML object>"
      ]
     },
     "metadata": {},
     "output_type": "display_data"
    },
    {
     "data": {
      "text/html": [
       "<div style=\"display: flex; align-items: center;\"><div style=\"flex: 1;\"><img src=\"https://d11p8vtjlacpl4.cloudfront.net/kaggle-hm-images/070/0702842009.jpg\" height=\"120\" width=\"85\"></div><div style=\"flex: 2;\"><p>ID: 702842009</p><p>Product Name: Printed dark tee</p><p>Menswear &raquo; Garment Upper body &raquo; T-shirt</p><p>Color: White - 10</p><p>Rating: 3</div></div>"
      ],
      "text/plain": [
       "<IPython.core.display.HTML object>"
      ]
     },
     "metadata": {},
     "output_type": "display_data"
    },
    {
     "data": {
      "text/html": [
       "<div style=\"display: flex; align-items: center;\"><div style=\"flex: 1;\"><img src=\"https://d11p8vtjlacpl4.cloudfront.net/kaggle-hm-images/078/0782616035.jpg\" height=\"120\" width=\"85\"></div><div style=\"flex: 2;\"><p>ID: 782616035</p><p>Product Name: FORTUNA TEE</p><p>Menswear &raquo; Garment Upper body &raquo; T-shirt</p><p>Color: Dark Blue - 73</p><p>Rating: 2</div></div>"
      ],
      "text/plain": [
       "<IPython.core.display.HTML object>"
      ]
     },
     "metadata": {},
     "output_type": "display_data"
    },
    {
     "data": {
      "text/html": [
       "<div style=\"display: flex; align-items: center;\"><div style=\"flex: 1;\"><img src=\"https://d11p8vtjlacpl4.cloudfront.net/kaggle-hm-images/057/0578606001.jpg\" height=\"120\" width=\"85\"></div><div style=\"flex: 2;\"><p>ID: 578606001</p><p>Product Name: Printed Bleach Tee</p><p>Menswear &raquo; Garment Upper body &raquo; T-shirt</p><p>Color: Black - 9</p><p>Rating: 3</div></div>"
      ],
      "text/plain": [
       "<IPython.core.display.HTML object>"
      ]
     },
     "metadata": {},
     "output_type": "display_data"
    },
    {
     "data": {
      "text/html": [
       "<div style=\"display: flex; align-items: center;\"><div style=\"flex: 1;\"><img src=\"https://d11p8vtjlacpl4.cloudfront.net/kaggle-hm-images/062/0621522005.jpg\" height=\"120\" width=\"85\"></div><div style=\"flex: 2;\"><p>ID: 621522005</p><p>Product Name: Mike tee</p><p>Menswear &raquo; Garment Upper body &raquo; T-shirt</p><p>Color: White - 10</p><p>Rating: 1</div></div>"
      ],
      "text/plain": [
       "<IPython.core.display.HTML object>"
      ]
     },
     "metadata": {},
     "output_type": "display_data"
    },
    {
     "data": {
      "text/html": [
       "<div style=\"display: flex; align-items: center;\"><div style=\"flex: 1;\"><img src=\"https://d11p8vtjlacpl4.cloudfront.net/kaggle-hm-images/059/0592743039.jpg\" height=\"120\" width=\"85\"></div><div style=\"flex: 2;\"><p>ID: 592743039</p><p>Product Name: Regular Printed tee 9.99</p><p>Menswear &raquo; Garment Upper body &raquo; T-shirt</p><p>Color: Light Pink - 51</p><p>Rating: 4</div></div>"
      ],
      "text/plain": [
       "<IPython.core.display.HTML object>"
      ]
     },
     "metadata": {},
     "output_type": "display_data"
    },
    {
     "data": {
      "text/html": [
       "<div style=\"display: flex; align-items: center;\"><div style=\"flex: 1;\"><img src=\"https://d11p8vtjlacpl4.cloudfront.net/kaggle-hm-images/048/0483290001.jpg\" height=\"120\" width=\"85\"></div><div style=\"flex: 2;\"><p>ID: 483290001</p><p>Product Name: Tiernan</p><p>Menswear &raquo; Garment Upper body &raquo; Sweater</p><p>Color: Beige - 13</p><p>Rating: 2</div></div>"
      ],
      "text/plain": [
       "<IPython.core.display.HTML object>"
      ]
     },
     "metadata": {},
     "output_type": "display_data"
    },
    {
     "data": {
      "text/html": [
       "<div style=\"display: flex; align-items: center;\"><div style=\"flex: 1;\"><img src=\"https://d11p8vtjlacpl4.cloudfront.net/kaggle-hm-images/077/0771053002.jpg\" height=\"120\" width=\"85\"></div><div style=\"flex: 2;\"><p>ID: 771053002</p><p>Product Name: Jason Tee 9.99:-</p><p>Menswear &raquo; Garment Upper body &raquo; T-shirt</p><p>Color: Dark Blue - 73</p><p>Rating: 3</div></div>"
      ],
      "text/plain": [
       "<IPython.core.display.HTML object>"
      ]
     },
     "metadata": {},
     "output_type": "display_data"
    },
    {
     "data": {
      "text/html": [
       "<div style=\"display: flex; align-items: center;\"><div style=\"flex: 1;\"><img src=\"https://d11p8vtjlacpl4.cloudfront.net/kaggle-hm-images/055/0552852036.jpg\" height=\"120\" width=\"85\"></div><div style=\"flex: 2;\"><p>ID: 552852036</p><p>Product Name: SALT Regular tee (1)</p><p>Menswear &raquo; Garment Upper body &raquo; T-shirt</p><p>Color: Yellow - 22</p><p>Rating: 2</div></div>"
      ],
      "text/plain": [
       "<IPython.core.display.HTML object>"
      ]
     },
     "metadata": {},
     "output_type": "display_data"
    },
    {
     "data": {
      "text/html": [
       "<div style=\"display: flex; align-items: center;\"><div style=\"flex: 1;\"><img src=\"https://d11p8vtjlacpl4.cloudfront.net/kaggle-hm-images/063/0633172001.jpg\" height=\"120\" width=\"85\"></div><div style=\"flex: 2;\"><p>ID: 633172001</p><p>Product Name: HONEY COMB TEE</p><p>Menswear &raquo; Garment Upper body &raquo; T-shirt</p><p>Color: Greenish Khaki - 19</p><p>Rating: 4</div></div>"
      ],
      "text/plain": [
       "<IPython.core.display.HTML object>"
      ]
     },
     "metadata": {},
     "output_type": "display_data"
    },
    {
     "data": {
      "text/html": [
       "<div style=\"display: flex; align-items: center;\"><div style=\"flex: 1;\"><img src=\"https://d11p8vtjlacpl4.cloudfront.net/kaggle-hm-images/062/0624684003.jpg\" height=\"120\" width=\"85\"></div><div style=\"flex: 2;\"><p>ID: 624684003</p><p>Product Name: ROY 5PK SLIM RN T-SHIRT</p><p>Menswear &raquo; Garment Upper body &raquo; T-shirt</p><p>Color: White - 10</p><p>Rating: 4</div></div>"
      ],
      "text/plain": [
       "<IPython.core.display.HTML object>"
      ]
     },
     "metadata": {},
     "output_type": "display_data"
    },
    {
     "data": {
      "text/html": [
       "<div style=\"display: flex; align-items: center;\"><div style=\"flex: 1;\"><img src=\"https://d11p8vtjlacpl4.cloudfront.net/kaggle-hm-images/055/0552852035.jpg\" height=\"120\" width=\"85\"></div><div style=\"flex: 2;\"><p>ID: 552852035</p><p>Product Name: SALT Regular tee (1)</p><p>Menswear &raquo; Garment Upper body &raquo; T-shirt</p><p>Color: Dark Green - 93</p><p>Rating: 1</div></div>"
      ],
      "text/plain": [
       "<IPython.core.display.HTML object>"
      ]
     },
     "metadata": {},
     "output_type": "display_data"
    }
   ],
   "source": [
    "ranking_expr = 'uncalibrated_relevance * if(object.index_group_name == \"Menswear\", 1.02, 1)'\n",
    "\n",
    "results = index.search(\"t-shirt\", object_fields=\"*\", limit=20, ranking_expr=ranking_expr)\n",
    "display_results(results)"
   ]
  },
  {
   "cell_type": "markdown",
   "metadata": {},
   "source": [
    "Let's take a closer look at the ranking expression:\n",
    "\n",
    "```\n",
    "uncalibrated_relevance * if(object.index_group_name == \"Menswear\", 1.02, 1)\n",
    "```\n",
    "\n",
    "`uncalibrated_relevance` is a primitive in Ranking Signals that represents the raw relevance score computed by the index before any ranking expression is applied. A ranking expression must return a new score.\n",
    "\n",
    "The `if(object.index_group_name == \"Menswear\", 1.02, 1)` part of the expression is saying if the `index_group_name` equals `Menswear`, return `1.02`, else return `1`.\n",
    "\n",
    "Finally, we are multiplying the result of the `if` statement and the `uncalibrated_relevance`. \n",
    "\n",
    "To see more examples and a full list of the available functions in Ranking Expressions, see our [docs](https://www.objective.inc/docs/apis/search/text-search#ranking-signals)."
   ]
  },
  {
   "cell_type": "markdown",
   "metadata": {},
   "source": [
    "## Add Another Signal\n",
    "\n",
    "Our objects also have a `rating` attribute with values from 1 to 5. Let's extend our ranking signal so that we give a 2% boost to any objects having a rating equal to or greater than 4. To accomplis this, we'll follow the same pattern as our `Menswear` boost but we will add it to the existing expression by multiplying them together. This means that any object that is in the `Menswear` category with a rating of over 4 or more will receive a `4%` boost."
   ]
  },
  {
   "cell_type": "code",
   "execution_count": 51,
   "metadata": {},
   "outputs": [
    {
     "data": {
      "text/html": [
       "<div style=\"display: flex; align-items: center;\"><div style=\"flex: 1;\"><img src=\"https://d11p8vtjlacpl4.cloudfront.net/kaggle-hm-images/069/0699923030.jpg\" height=\"120\" width=\"85\"></div><div style=\"flex: 2;\"><p>ID: 699923030</p><p>Product Name: Mike tee</p><p>Menswear &raquo; Garment Upper body &raquo; T-shirt</p><p>Color: Greenish Khaki - 19</p><p>Rating: 4</div></div>"
      ],
      "text/plain": [
       "<IPython.core.display.HTML object>"
      ]
     },
     "metadata": {},
     "output_type": "display_data"
    },
    {
     "data": {
      "text/html": [
       "<div style=\"display: flex; align-items: center;\"><div style=\"flex: 1;\"><img src=\"https://d11p8vtjlacpl4.cloudfront.net/kaggle-hm-images/059/0592743039.jpg\" height=\"120\" width=\"85\"></div><div style=\"flex: 2;\"><p>ID: 592743039</p><p>Product Name: Regular Printed tee 9.99</p><p>Menswear &raquo; Garment Upper body &raquo; T-shirt</p><p>Color: Light Pink - 51</p><p>Rating: 4</div></div>"
      ],
      "text/plain": [
       "<IPython.core.display.HTML object>"
      ]
     },
     "metadata": {},
     "output_type": "display_data"
    },
    {
     "data": {
      "text/html": [
       "<div style=\"display: flex; align-items: center;\"><div style=\"flex: 1;\"><img src=\"https://d11p8vtjlacpl4.cloudfront.net/kaggle-hm-images/063/0633172001.jpg\" height=\"120\" width=\"85\"></div><div style=\"flex: 2;\"><p>ID: 633172001</p><p>Product Name: HONEY COMB TEE</p><p>Menswear &raquo; Garment Upper body &raquo; T-shirt</p><p>Color: Greenish Khaki - 19</p><p>Rating: 4</div></div>"
      ],
      "text/plain": [
       "<IPython.core.display.HTML object>"
      ]
     },
     "metadata": {},
     "output_type": "display_data"
    },
    {
     "data": {
      "text/html": [
       "<div style=\"display: flex; align-items: center;\"><div style=\"flex: 1;\"><img src=\"https://d11p8vtjlacpl4.cloudfront.net/kaggle-hm-images/062/0624684003.jpg\" height=\"120\" width=\"85\"></div><div style=\"flex: 2;\"><p>ID: 624684003</p><p>Product Name: ROY 5PK SLIM RN T-SHIRT</p><p>Menswear &raquo; Garment Upper body &raquo; T-shirt</p><p>Color: White - 10</p><p>Rating: 4</div></div>"
      ],
      "text/plain": [
       "<IPython.core.display.HTML object>"
      ]
     },
     "metadata": {},
     "output_type": "display_data"
    },
    {
     "data": {
      "text/html": [
       "<div style=\"display: flex; align-items: center;\"><div style=\"flex: 1;\"><img src=\"https://d11p8vtjlacpl4.cloudfront.net/kaggle-hm-images/069/0699923014.jpg\" height=\"120\" width=\"85\"></div><div style=\"flex: 2;\"><p>ID: 699923014</p><p>Product Name: Mike tee</p><p>Menswear &raquo; Garment Upper body &raquo; T-shirt</p><p>Color: Grey - 7</p><p>Rating: 4</div></div>"
      ],
      "text/plain": [
       "<IPython.core.display.HTML object>"
      ]
     },
     "metadata": {},
     "output_type": "display_data"
    },
    {
     "data": {
      "text/html": [
       "<div style=\"display: flex; align-items: center;\"><div style=\"flex: 1;\"><img src=\"https://d11p8vtjlacpl4.cloudfront.net/kaggle-hm-images/062/0621522028.jpg\" height=\"120\" width=\"85\"></div><div style=\"flex: 2;\"><p>ID: 621522028</p><p>Product Name: Mike tee</p><p>Menswear &raquo; Garment Upper body &raquo; T-shirt</p><p>Color: Dark Blue - 73</p><p>Rating: 4</div></div>"
      ],
      "text/plain": [
       "<IPython.core.display.HTML object>"
      ]
     },
     "metadata": {},
     "output_type": "display_data"
    },
    {
     "data": {
      "text/html": [
       "<div style=\"display: flex; align-items: center;\"><div style=\"flex: 1;\"><img src=\"https://d11p8vtjlacpl4.cloudfront.net/kaggle-hm-images/057/0578630003.jpg\" height=\"120\" width=\"85\"></div><div style=\"flex: 2;\"><p>ID: 578630003</p><p>Product Name: ROY 3PK SLIM RN T-SHIRT</p><p>Menswear &raquo; Garment Upper body &raquo; T-shirt</p><p>Color: Black - 9</p><p>Rating: 4</div></div>"
      ],
      "text/plain": [
       "<IPython.core.display.HTML object>"
      ]
     },
     "metadata": {},
     "output_type": "display_data"
    },
    {
     "data": {
      "text/html": [
       "<div style=\"display: flex; align-items: center;\"><div style=\"flex: 1;\"><img src=\"https://d11p8vtjlacpl4.cloudfront.net/kaggle-hm-images/071/0711260002.jpg\" height=\"120\" width=\"85\"></div><div style=\"flex: 2;\"><p>ID: 711260002</p><p>Product Name: Printed negative tee</p><p>Menswear &raquo; Garment Upper body &raquo; T-shirt</p><p>Color: White - 10</p><p>Rating: 4</div></div>"
      ],
      "text/plain": [
       "<IPython.core.display.HTML object>"
      ]
     },
     "metadata": {},
     "output_type": "display_data"
    },
    {
     "data": {
      "text/html": [
       "<div style=\"display: flex; align-items: center;\"><div style=\"flex: 1;\"><img src=\"https://d11p8vtjlacpl4.cloudfront.net/kaggle-hm-images/075/0757805010.jpg\" height=\"120\" width=\"85\"></div><div style=\"flex: 2;\"><p>ID: 757805010</p><p>Product Name: Wow Rocky Tee 4.99:-</p><p>Menswear &raquo; Garment Upper body &raquo; T-shirt</p><p>Color: Light Pink - 51</p><p>Rating: 4</div></div>"
      ],
      "text/plain": [
       "<IPython.core.display.HTML object>"
      ]
     },
     "metadata": {},
     "output_type": "display_data"
    },
    {
     "data": {
      "text/html": [
       "<div style=\"display: flex; align-items: center;\"><div style=\"flex: 1;\"><img src=\"https://d11p8vtjlacpl4.cloudfront.net/kaggle-hm-images/061/0619561008.jpg\" height=\"120\" width=\"85\"></div><div style=\"flex: 2;\"><p>ID: 619561008</p><p>Product Name: SUGARPUFF MUSCLE TEE</p><p>Menswear &raquo; Garment Upper body &raquo; T-shirt</p><p>Color: Dark Red - 43</p><p>Rating: 4</div></div>"
      ],
      "text/plain": [
       "<IPython.core.display.HTML object>"
      ]
     },
     "metadata": {},
     "output_type": "display_data"
    },
    {
     "data": {
      "text/html": [
       "<div style=\"display: flex; align-items: center;\"><div style=\"flex: 1;\"><img src=\"https://d11p8vtjlacpl4.cloudfront.net/kaggle-hm-images/067/0671777004.jpg\" height=\"120\" width=\"85\"></div><div style=\"flex: 2;\"><p>ID: 671777004</p><p>Product Name: Roll Up Tee</p><p>Menswear &raquo; Garment Upper body &raquo; T-shirt</p><p>Color: Black - 9</p><p>Rating: 4</div></div>"
      ],
      "text/plain": [
       "<IPython.core.display.HTML object>"
      ]
     },
     "metadata": {},
     "output_type": "display_data"
    },
    {
     "data": {
      "text/html": [
       "<div style=\"display: flex; align-items: center;\"><div style=\"flex: 1;\"><img src=\"https://d11p8vtjlacpl4.cloudfront.net/kaggle-hm-images/076/0768419001.jpg\" height=\"120\" width=\"85\"></div><div style=\"flex: 2;\"><p>ID: 768419001</p><p>Product Name: Grape t-shirt</p><p>Ladieswear &raquo; Garment Upper body &raquo; T-shirt</p><p>Color: White - 10</p><p>Rating: 4</div></div>"
      ],
      "text/plain": [
       "<IPython.core.display.HTML object>"
      ]
     },
     "metadata": {},
     "output_type": "display_data"
    },
    {
     "data": {
      "text/html": [
       "<div style=\"display: flex; align-items: center;\"><div style=\"flex: 1;\"><img src=\"https://d11p8vtjlacpl4.cloudfront.net/kaggle-hm-images/077/0774075001.jpg\" height=\"120\" width=\"85\"></div><div style=\"flex: 2;\"><p>ID: 774075001</p><p>Product Name: BROOKE PIQUE SLIM TEE</p><p>Menswear &raquo; Garment Upper body &raquo; T-shirt</p><p>Color: White - 10</p><p>Rating: 4</div></div>"
      ],
      "text/plain": [
       "<IPython.core.display.HTML object>"
      ]
     },
     "metadata": {},
     "output_type": "display_data"
    },
    {
     "data": {
      "text/html": [
       "<div style=\"display: flex; align-items: center;\"><div style=\"flex: 1;\"><img src=\"https://d11p8vtjlacpl4.cloudfront.net/kaggle-hm-images/086/0863587005.jpg\" height=\"120\" width=\"85\"></div><div style=\"flex: 2;\"><p>ID: 863587005</p><p>Product Name: R-NECK SS BASIC COOLMAX</p><p>Menswear &raquo; Garment Upper body &raquo; T-shirt</p><p>Color: Green - 92</p><p>Rating: 4</div></div>"
      ],
      "text/plain": [
       "<IPython.core.display.HTML object>"
      ]
     },
     "metadata": {},
     "output_type": "display_data"
    },
    {
     "data": {
      "text/html": [
       "<div style=\"display: flex; align-items: center;\"><div style=\"flex: 1;\"><img src=\"https://d11p8vtjlacpl4.cloudfront.net/kaggle-hm-images/070/0702932009.jpg\" height=\"120\" width=\"85\"></div><div style=\"flex: 2;\"><p>ID: 702932009</p><p>Product Name: ALLINGTON slim fit tee TVP</p><p>Menswear &raquo; Unknown &raquo; Unknown</p><p>Color: Beige - 13</p><p>Rating: 4</div></div>"
      ],
      "text/plain": [
       "<IPython.core.display.HTML object>"
      ]
     },
     "metadata": {},
     "output_type": "display_data"
    },
    {
     "data": {
      "text/html": [
       "<div style=\"display: flex; align-items: center;\"><div style=\"flex: 1;\"><img src=\"https://d11p8vtjlacpl4.cloudfront.net/kaggle-hm-images/052/0525815001.jpg\" height=\"120\" width=\"85\"></div><div style=\"flex: 2;\"><p>ID: 525815001</p><p>Product Name: R-NECK SS BASIC FIT</p><p>Menswear &raquo; Garment Upper body &raquo; T-shirt</p><p>Color: White - 10</p><p>Rating: 4</div></div>"
      ],
      "text/plain": [
       "<IPython.core.display.HTML object>"
      ]
     },
     "metadata": {},
     "output_type": "display_data"
    },
    {
     "data": {
      "text/html": [
       "<div style=\"display: flex; align-items: center;\"><div style=\"flex: 1;\"><img src=\"https://d11p8vtjlacpl4.cloudfront.net/kaggle-hm-images/059/0598755045.jpg\" height=\"120\" width=\"85\"></div><div style=\"flex: 2;\"><p>ID: 598755045</p><p>Product Name: Taz Tee</p><p>Menswear &raquo; Garment Upper body &raquo; T-shirt</p><p>Color: Grey - 7</p><p>Rating: 4</div></div>"
      ],
      "text/plain": [
       "<IPython.core.display.HTML object>"
      ]
     },
     "metadata": {},
     "output_type": "display_data"
    },
    {
     "data": {
      "text/html": [
       "<div style=\"display: flex; align-items: center;\"><div style=\"flex: 1;\"><img src=\"https://d11p8vtjlacpl4.cloudfront.net/kaggle-hm-images/079/0797862001.jpg\" height=\"120\" width=\"85\"></div><div style=\"flex: 2;\"><p>ID: 797862001</p><p>Product Name: NASA SS Tee 14.99:-</p><p>Menswear &raquo; Garment Upper body &raquo; T-shirt</p><p>Color: Black - 9</p><p>Rating: 4</div></div>"
      ],
      "text/plain": [
       "<IPython.core.display.HTML object>"
      ]
     },
     "metadata": {},
     "output_type": "display_data"
    },
    {
     "data": {
      "text/html": [
       "<div style=\"display: flex; align-items: center;\"><div style=\"flex: 1;\"><img src=\"https://d11p8vtjlacpl4.cloudfront.net/kaggle-hm-images/061/0614460005.jpg\" height=\"120\" width=\"85\"></div><div style=\"flex: 2;\"><p>ID: 614460005</p><p>Product Name: CORN CLASSIC TEE</p><p>Menswear &raquo; Garment Upper body &raquo; T-shirt</p><p>Color: Dark Blue - 73</p><p>Rating: 4</div></div>"
      ],
      "text/plain": [
       "<IPython.core.display.HTML object>"
      ]
     },
     "metadata": {},
     "output_type": "display_data"
    },
    {
     "data": {
      "text/html": [
       "<div style=\"display: flex; align-items: center;\"><div style=\"flex: 1;\"><img src=\"https://d11p8vtjlacpl4.cloudfront.net/kaggle-hm-images/077/0774043001.jpg\" height=\"120\" width=\"85\"></div><div style=\"flex: 2;\"><p>ID: 774043001</p><p>Product Name: SCOOP NECK SLIM FIT TEE</p><p>Menswear &raquo; Garment Upper body &raquo; T-shirt</p><p>Color: White - 10</p><p>Rating: 4</div></div>"
      ],
      "text/plain": [
       "<IPython.core.display.HTML object>"
      ]
     },
     "metadata": {},
     "output_type": "display_data"
    }
   ],
   "source": [
    "ranking_expr = 'uncalibrated_relevance * (if(object.index_group_name == \"Menswear\", 1.02, 1) * if(object.rating >= 4, 1.02, 1))'\n",
    "\n",
    "results = index.search(\"t-shirt\", object_fields=\"*\", limit=20, ranking_expr=ranking_expr)\n",
    "display_results(results)"
   ]
  },
  {
   "cell_type": "markdown",
   "metadata": {},
   "source": [
    "Congratulations! 🎉 You've just successfully learned how to use Ranking Signals to promote results based on extrinsic factors. Use Ranking Signals when you want to personalize or adjust search results based contextual data.\n",
    "\n",
    "To learn more about Ranking Signals, see our [docs](https://www.objective.inc/docs/apis/search/text-search#ranking-signals)."
   ]
  }
 ],
 "metadata": {
  "kernelspec": {
   "display_name": ".venv",
   "language": "python",
   "name": "python3"
  },
  "language_info": {
   "codemirror_mode": {
    "name": "ipython",
    "version": 3
   },
   "file_extension": ".py",
   "mimetype": "text/x-python",
   "name": "python",
   "nbconvert_exporter": "python",
   "pygments_lexer": "ipython3",
   "version": "3.12.3"
  }
 },
 "nbformat": 4,
 "nbformat_minor": 2
}
